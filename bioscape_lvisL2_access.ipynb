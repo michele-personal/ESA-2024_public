{
 "cells": [
  {
   "cell_type": "markdown",
   "id": "13c3df73-a836-4978-a918-23b7e5eb5865",
   "metadata": {},
   "source": [
    "## ESA 2024 Special Session - SS 08\n",
    "\n",
    "# Accessing Data from NASA’s First Biodiversity-Focused Airborne and Field Campaign, BioSCape\n",
    "**Monday, August 5, 2024, 11:45 - 1:15 PM PDT**\n",
    "- Organizer - Erin Hestir, University of California Merced\n",
    "- Co-Organizers - In Person: Anabelle Cardoso, Philip Brodrick, Michele Thornton, Erin Hestir\n",
    "- Co-Organizers - Additional: Rupesh Shrestha, Glenn Moncrieff, Adam Wilson"
   ]
  },
  {
   "cell_type": "markdown",
   "id": "e70bd4ee-f1a1-45d2-a52a-9474b5b0a56d",
   "metadata": {},
   "source": [
    "## Session Overview\n",
    "\n",
    "<center><img src=\"NotebookImages/121229-87.png\"/></center>\n",
    "\n",
    "**ESA 2024 Special Session: SS 08 - Accessing Data from NASA’s First Biodiversity-Focused Airborne and Field Campaign, BioSCape**\n",
    "\n",
    "[BioSCape](https://www.bioscape.io/), the Biodiversity Survey of the Cape, is NASA’s first biodiversity-focused airborne and field campaign that was conducted in South Africa in 2023. BioSCape’s primary objective is to study the structure, function, and composition of the region’s ecosystems, and how and why they are changing. \n",
    "\n",
    "BioSCape's airborne dataset is unprecedented, with AVIRIS-NG, PRISM, and HyTES imaging spectrometers capturing spectral data across the UV, visible and infrared at high resolution and LVIS acquiring coincident full-waveform lidar. BioSCape's field dataset is equally impressive, with 18 PI-led projects collecting data ranging from the diversity and phylogeny of plants, kelp and phytoplankton, eDNA, landscape acoustics, plant traits, blue carbon accounting, and more\n",
    "\n",
    "BioSCape is committed to Open Science. All our datasets will be delivered to one of NASA's Distributed Archive and Analysis Centers. In this ESA special session we will: \n",
    "\n",
    "1) Give an overview of BioSCape’s research activities, \n",
    "2) Discuss the ways in which BioSCape data has been optimized for easier uptake by new users, and\n",
    "3) Demonstrate where and how one can access BioSCape’s field and airborne data sets.\n",
    "\n",
    "The goal of this session is to encourage wider awareness and use of BioSCape data and promote its application in research and biodiversity conservation."
   ]
  },
  {
   "cell_type": "markdown",
   "id": "98b1bdd4-09e3-4e00-b982-7e324add6455",
   "metadata": {},
   "source": [
    "----\n",
    "# Tutorial: Accessing, Subsetting, and Exploring BioSCape LVIS (Land, Vegetation, and Ice Sensor) L2 Data From NASA Earthdata Repositories\n",
    "----\n",
    "\n"
   ]
  },
  {
   "cell_type": "markdown",
   "id": "df7affbd-b8c6-47ac-aed1-01c11055eb86",
   "metadata": {
    "jp-MarkdownHeadingCollapsed": true
   },
   "source": [
    "## LVIS Full-waveform Lidar\n",
    "**Land, Vegetation, and Ice Sensor (LVIS)**, is an airborne, wide-swath imaging full-waveform laser altimeter. LVIS collects in a 1064 nm-wavelength (near infrared) range with 3 detectors mounted in an airborne platform, flown typically ~10 km above the ground producing a data swath of 2km wide with 7-10 m footprints. More information about the LVIS instrument is [here](https://lvis.gsfc.nasa.gov/Home/instrumentdetails.html).\n",
    "\n",
    "The LVIS instrument has been flown above several regions of the world since 1998. The LVIS flights were collected for the [BioSCAPE campaigns](https://lvis.gsfc.nasa.gov/Data/Maps/SouthAfrica2023Map.html) from `01 Oct 2023` through `30 Nov 2023`.\n",
    "\n",
    "There are three LVIS BioSCape data products currently available and archived at [NSIDC DAAC](https://search.earthdata.nasa.gov/search?q=LVIS&qt=2023-10-20T00%3A00%3A00.000Z%2C2023-11-15T23%3A59%3A59.999Z&fi=LVIS-Camera!LVIS&fdc=National%2BSnow%2Band%2BIce%2BData%2BCenter%2BDistributed%2BActive%2BArchive%2BCenter%2B%2528NSIDC%2BDAAC%2529&fpj=BioSCape&_ga=2.63606251.53278573.1721067437-1362124365.1714395655&_gl=1*q0ghrk*_ga*MTM2MjEyNDM2NS4xNzE0Mzk1NjU1*_ga_LQ2P0SNJCZ*MTcyMTU5NTQ4Ni4xMjMuMS4xNzIxNTk1NjkxLjAuMC4w):\n",
    "\n",
    "| Dataset | Dataset DOI | \n",
    "| -------- | --- |\n",
    "| LVIS L1A Geotagged Images V001 | [10.5067/NE5KKKBAQG44](https://doi.org/10.5067/NE5KKKBAQG44) |\n",
    "| LVIS Facility L1B Geolocated Return Energy Waveforms V001 | [10.5067/XQJ8PN8FTIDG](https://doi.org/10.5067/XQJ8PN8FTIDG) |\n",
    "| LVIS Facility L2 Geolocated Surface Elevation and Canopy Height Product V001 | [10.5067/VP7J20HJQISD](https://doi.org/10.5067/VP7J20HJQISD) |\n",
    "\n",
    "\n",
    "### For this tutorial, we'll examine the **`LVIS L2 Geolocated Surface Elevation and Canopy Height Product V001`**\n",
    "\n",
    "- **Citation:** Blair, J. B. & Hofton, M. (2020). LVIS Facility L2 Geolocated Surface Elevation and Canopy Height Product, Version 1 [Data Set]. Boulder, Colorado USA. NASA National Snow and Ice Data Center Distributed Active Archive Center. https://doi.org/10.5067/VP7J20HJQISD. Date Accessed.\n",
    "- NSIDC DAAC **User Guide** [LVIS Facility L2 Geolocated Surface Elevation and \n",
    "Canopy Height Product, Version ](https://nsidc.org/sites/default/files/lvisf2-v001-userguide_2_0.pdf)1\n",
    "\n",
    "<center><img src=\"NotebookImages/tgsi_a_1761763_f0001_c50.jpg\"/></center>\n",
    "<center>From: Salas, E. A. L. (2020). Waveform LiDAR concepts and applications for potential vegetation phenology monitoring and modeling: a comprehensive review. Geo-Spatial Information Science, 24(2), 179–200. https://doi.org/10.1080/10095020.2020.1761763</center>\r"
   ]
  },
  {
   "cell_type": "markdown",
   "id": "23a6e58e-0451-45a0-993f-be6b83749021",
   "metadata": {},
   "source": [
    "### Learning Objectives\n",
    "### In this tutorial, we'll use python methods to:\n",
    "1. login and authenticate to NASA Earthdata Login using **earthaccess**\n",
    "2. create LVIS flight line boundaries from granule level metadata  \n",
    "3. set spatial parameter searches for LVIS data using a **BioSCape** Campaign associated research area boundary file \n",
    "4. programmatically discover specific LVIS L2A file access URLs based on metadata and spatial/temporal parameters\n",
    "5. download LVIS L2A data files from the [NSIDC DAAC](https://search.earthdata.nasa.gov/search?q=LVIS&qt=2023-10-20T00%3A00%3A00.000Z%2C2023-11-15T23%3A59%3A59.999Z&fi=LVIS-Camera!LVIS&fdc=National%2BSnow%2Band%2BIce%2BData%2BCenter%2BDistributed%2BActive%2BArchive%2BCenter%2B%2528NSIDC%2BDAAC%2529&fpj=BioSCape&_ga=2.263515592.53278573.1721067437-1362124365.1714395655&_gl=1*1r39p3f*_ga*MTM2MjEyNDM2NS4xNzE0Mzk1NjU1*_ga_LQ2P0SNJCZ*MTcyMTU5NTQ4Ni4xMjMuMS4xNzIxNTk1ODI1LjAuMC4w)\n",
    "6. manipulate and visualize the LVIS L2A data\n",
    "\n",
    "## Requirements\n",
    "\n",
    "**Earthdata Login:**\n",
    "An Earthdata Login account is required to access data, as well as discover restricted data, from the NASA Earthdata system. Thus, to access NASA data, you need Earthdata Login. Please visit https://urs.earthdata.nasa.gov to register and manage your **Earthdata Login account**. This account is free to create and only takes a moment to set up.\n"
   ]
  },
  {
   "cell_type": "markdown",
   "id": "4db7275b-f7fc-42da-9986-39fde91a6e5f",
   "metadata": {},
   "source": [
    "## Import modules"
   ]
  },
  {
   "cell_type": "code",
   "execution_count": null,
   "id": "6960b418-bd17-4bed-a60a-5bffdabb6c1e",
   "metadata": {},
   "outputs": [],
   "source": [
    "import linecache\n",
    "from glob import glob\n",
    "import pandas as pd\n",
    "import earthaccess\n",
    "import geopandas as gpd\n",
    "import contextily as cx\n",
    "from shapely.ops import orient\n",
    "from shapely.geometry import Polygon, MultiPolygon"
   ]
  },
  {
   "cell_type": "markdown",
   "id": "9012b68f-afad-458f-a2bc-7208cf7aab25",
   "metadata": {},
   "source": [
    "## NASA Earthdata Login with **earthaccess**\n",
    "\n",
    "**[Earthdata Login](https://urs.earthdata.nasa.gov/documentation/what_do_i_need_to_know)** is a user registration and user profile management system for users getting Earth science data from any of the Distributed Active Archive Centers (DAACs).  If you download or access NASA Earthdata data, you need an Earthdata Login.\n",
    "\n",
    "**[earthaccess](https://nsidc.github.io/earthaccess/)** is a Python package (https://github.com/nsidc/earthaccess) that ...\n",
    "- handles authentication with NASA's Earthdata Login (EDL), \n",
    "- allows searching of the NASA Earthdata Data holdings using NASA's Common Metadata Repository (CMR), and \n",
    "- and more, check out the link above!\n",
    "\n",
    "**Tutorial** help on [earthaccess](https://nasa-openscapes.github.io/earthdata-cloud-cookbook/tutorials/earthaccess-demo.html)\n",
    "\n",
    "The only **requirement** to use the `earthaccess` library is to open a free account with [NASA Earthdata Login](https://urs.earthdata.nasa.gov/)"
   ]
  },
  {
   "cell_type": "code",
   "execution_count": null,
   "id": "964e316e-5a57-4154-855c-5b6471fa9aaa",
   "metadata": {},
   "outputs": [],
   "source": [
    "# works if the EDL login already been persisted to a netrc\n",
    "auth = earthaccess.login(strategy=\"netrc\") \n",
    "if not auth.authenticated:\n",
    "    # ask for EDL credentials and persist them in a .netrc file\n",
    "    auth = earthaccess.login(strategy=\"interactive\", persist=True)"
   ]
  },
  {
   "cell_type": "code",
   "execution_count": null,
   "id": "fa5c484a-3d26-4f07-b78f-658e46a9beb5",
   "metadata": {},
   "outputs": [],
   "source": [
    "# works if the EDL login already been persisted to a netrc\n",
    "auth = earthaccess.login(strategy=\"interactive\", persist=True)"
   ]
  },
  {
   "cell_type": "markdown",
   "id": "c543bc14-7151-4fb0-b0e0-af4c6ba12b5b",
   "metadata": {},
   "source": [
    "## Search NASA Earthdata Repository for LVIS granules over Bioscape Campaign\n",
    "We can use the **`earthaccess`** module to search and download LVIS data. \n",
    "- The LVIS L2 Data DOI is `https://dx.doi.org/10.5067/VP7J20HJQISD` \n",
    "- The temporal period of the BioSCape Campaign was `\"2023-10-01\", \"2023-11-30\"`"
   ]
  },
  {
   "cell_type": "code",
   "execution_count": null,
   "id": "2b83d78c-f775-4fbc-8c34-56351313629e",
   "metadata": {},
   "outputs": [],
   "source": [
    "granules = earthaccess.search_data(\n",
    "    count=-1, # needed to retrieve all granules\n",
    "    doi=\"10.5067/VP7J20HJQISD\", # LVIS L2 doi\n",
    "    temporal=(\"2023-10-01\", \"2023-11-30\")) # Bioscape campaign dates"
   ]
  },
  {
   "cell_type": "code",
   "execution_count": null,
   "id": "a0d333b5-707f-4d2b-a2e8-7dc22726861b",
   "metadata": {},
   "outputs": [],
   "source": [
    "len(granules)"
   ]
  },
  {
   "cell_type": "markdown",
   "id": "b8fcf8e2-52b8-4080-a64d-2ccf86c6a3b1",
   "metadata": {},
   "source": [
    "#### There are **2,328** LVIS L2 files associated with our BioSCape search parameters\n",
    "\n",
    "- List the **`https:`** links\n",
    "- You click an **`https:url`** and data will download to your local machine."
   ]
  },
  {
   "cell_type": "code",
   "execution_count": null,
   "id": "575d4e0c-939e-4d5d-8753-94367ac27515",
   "metadata": {},
   "outputs": [],
   "source": [
    "for g in granules:\n",
    "    print(g.data_links(access=\"external\"))"
   ]
  },
  {
   "cell_type": "markdown",
   "id": "491c339c-ee5b-4d63-b00e-166f280f8544",
   "metadata": {},
   "source": [
    "- Let's see if the granules are hosted on Earthdata cloud or not, by printing a summary of the first granule."
   ]
  },
  {
   "cell_type": "code",
   "execution_count": null,
   "id": "60df18b1-ba40-42b4-afbc-d2e0094a1010",
   "metadata": {},
   "outputs": [],
   "source": [
    "granules[0]"
   ]
  },
  {
   "cell_type": "markdown",
   "id": "7f16cbe6-a61e-48c1-b781-ebfa14abef10",
   "metadata": {},
   "source": [
    "### As shown above, the LVIS files are not yet cloud-hosted. \n",
    "- **Cloud Hosted:** False\n",
    "- This simply means files are not yet in NASA Earthdata AWS, but files are available from the NSIDC DAAC\n",
    "- **This tuoroial will download a subset of files locally to use them.**"
   ]
  },
  {
   "cell_type": "markdown",
   "id": "54dbb4f6-98cb-4918-871d-20bc26db0903",
   "metadata": {},
   "source": [
    "## Examination of Granule Level metadata\n",
    "\n",
    "### Let's look at all the details of the granule-level metadata information.  \n",
    "- We'll use the granule level **`Geometry`** information to plot the flight paths over a basemap."
   ]
  },
  {
   "cell_type": "code",
   "execution_count": null,
   "id": "f438f497-13c4-47ca-bf71-c1f84044a47c",
   "metadata": {},
   "outputs": [],
   "source": [
    "granules[:1]"
   ]
  },
  {
   "cell_type": "markdown",
   "id": "877b9e64-c707-4142-bebe-8c0f1cd28564",
   "metadata": {},
   "source": [
    "## Plot LVIS Bioscape Flight Lines\n",
    "\n",
    "### There's A LOT! of information in the granule(file)-level metadata.  \n",
    "### Here's a little code block to use the granule `Geometry` information to create a plot of the LVIS BioSCape Flight Lines\n",
    "\n",
    "First define two functions that we can use to plot the search results above over a basemap.\n",
    "- Function 1: convert UMM geometry to multipolygons\n",
    "  - `UMM` stands for NASA's Unified Metadata Model\n",
    "- Function 2: convert Python List[ ] to **`geopandas`** dataframe"
   ]
  },
  {
   "cell_type": "code",
   "execution_count": null,
   "id": "6672a7a3-b1e0-4fd0-a566-5dc78baf2861",
   "metadata": {},
   "outputs": [],
   "source": [
    "def convert_umm_geometry(gpoly):\n",
    "    \"\"\"converts UMM geometry to multipolygons\"\"\"\n",
    "    multipolygons = []\n",
    "    for gl in gpoly:\n",
    "        ltln = gl[\"Boundary\"][\"Points\"]\n",
    "        points = [(p[\"Longitude\"], p[\"Latitude\"]) for p in ltln]\n",
    "        multipolygons.append(Polygon(points))\n",
    "    return MultiPolygon(multipolygons)\n",
    "\n",
    "def convert_list_gdf(datag):\n",
    "    \"\"\"converts List[] to geopandas dataframe\"\"\"\n",
    "    # create pandas dataframe from json\n",
    "    df = pd.json_normalize([vars(granule)['render_dict'] for granule in datag])\n",
    "    # keep only last string of the column names\n",
    "    df.columns=df.columns.str.split('.').str[-1]\n",
    "    # convert polygons to multipolygonal geometry\n",
    "    df[\"geometry\"] = df[\"GPolygons\"].apply(convert_umm_geometry)\n",
    "    # return geopandas dataframe\n",
    "    return gpd.GeoDataFrame(df, geometry=\"geometry\", crs=\"EPSG:4326\")\n",
    "    \n",
    "LVIS_gdf = convert_list_gdf(granules)\n",
    "ax = LVIS_gdf.to_crs(epsg=3857).plot(figsize=(16, 12), alpha=0.5, facecolor='y', edgecolor=\"black\")\n",
    "cx.add_basemap(ax)"
   ]
  },
  {
   "cell_type": "markdown",
   "id": "30b102f2-93de-4fc8-9ad6-ec924f0b2c70",
   "metadata": {},
   "source": [
    "##### the last column in the data frame shows the multipolygon file points for each granule"
   ]
  },
  {
   "cell_type": "code",
   "execution_count": null,
   "id": "d422c9ea-7356-4cb4-ac8b-71159159a745",
   "metadata": {},
   "outputs": [],
   "source": [
    "LVIS_gdf.head(2)"
   ]
  },
  {
   "cell_type": "code",
   "execution_count": null,
   "id": "fd1e200c-43ab-4f70-a9ad-047a9e388025",
   "metadata": {},
   "outputs": [],
   "source": [
    "LVIS_gdf['geometry'][:1]"
   ]
  },
  {
   "cell_type": "code",
   "execution_count": null,
   "id": "1eda92ac-06ce-416f-9d13-bfd9054e0deb",
   "metadata": {},
   "outputs": [],
   "source": [
    "LVIS_gdf.crs"
   ]
  },
  {
   "cell_type": "markdown",
   "id": "38a9f750-1128-4776-a9dd-6845f0974880",
   "metadata": {},
   "source": [
    "## Example Study Area\n",
    "### As an example, for this tutorial, the [Brackenburn Private Nature Reserve](https://plcnetwork.co.za/member/121/Brackenburn-Private-Nature-Reserve/) was selected as a study area of interest from which LVIS data will be subset.\n",
    "\n",
    "<center><img src=\"NotebookImages/brackenburn.PNG\"/></center>\n",
    "\n",
    "### This tutorial has separetly obtained a geoJSON file of the boundary of the Brackenburn Private Nature Reserve\n",
    "\n",
    "**Let's plot a vector boundary of the Brackenburn Private Nature Reserve**"
   ]
  },
  {
   "cell_type": "code",
   "execution_count": null,
   "id": "62490f1f-1dcb-48f2-928d-e767fdfe3345",
   "metadata": {},
   "outputs": [],
   "source": [
    "# read and plot the Brackenburn Private Nature Reserve boundary file\n",
    "brack_poly = gpd.read_file(\"data/brackenburn.json\")\n",
    "ax = brack_poly.plot() "
   ]
  },
  {
   "cell_type": "code",
   "execution_count": null,
   "id": "205ded2f-35ff-498f-87e1-8b0cb37a15d3",
   "metadata": {},
   "outputs": [],
   "source": [
    "brack_poly.crs"
   ]
  },
  {
   "cell_type": "markdown",
   "id": "e4f43ce4-8c55-4bfb-9fba-cf03c0e36c22",
   "metadata": {},
   "source": [
    "#### Let's add a basemap for some context"
   ]
  },
  {
   "cell_type": "code",
   "execution_count": null,
   "id": "0674ed63-c1a3-412b-8a13-dfaf503db32e",
   "metadata": {},
   "outputs": [],
   "source": [
    "#poly = gpd.read_file(\"data/brackenburn.json\")\n",
    "ax = brack_poly.to_crs(epsg=3857).plot(figsize=(16, 12), alpha=0.5, facecolor='r',  edgecolor=\"r\")\n",
    "xmin, ymin, xmax, ymax = brack_poly.to_crs(epsg=3857).total_bounds\n",
    "ax.set_xlim(xmin-10000, xmax+10000)\n",
    "ax.set_ylim(ymin-3000, ymax+3000)\n",
    "cx.add_basemap(ax)"
   ]
  },
  {
   "cell_type": "markdown",
   "id": "dd969dcf-b3a8-46a2-bed3-a7f7a2078119",
   "metadata": {},
   "source": [
    "## Plot LVIS Flight Lines and the Study Area Polygons"
   ]
  },
  {
   "cell_type": "markdown",
   "id": "792bd6c5-bc81-4ad2-8fcb-f3740ae65f75",
   "metadata": {},
   "source": [
    "#### First convert the Brackenburn boundary file to the flight line projection\n"
   ]
  },
  {
   "cell_type": "code",
   "execution_count": null,
   "id": "591b024e-ee30-447b-a7c9-d9243a718e28",
   "metadata": {},
   "outputs": [],
   "source": [
    "import folium\n",
    "mapObj = folium.Map(location=[-33.95, 23.52], zoom_start=7, control_scale=True)\n",
    "\n",
    "#folium.GeoJson(gdf).add_to(mapObj)\n",
    "folium.GeoJson(LVIS_gdf, name=\"LVIS L2 Lines\", style_function=lambda x: {\"fillOpacity\": 0}).add_to(mapObj)\n",
    "\n",
    "#folium.GeoJson(brackenburn_poly_3857, name=\"Brackenburn\", color=\"red\", style_function=lambda x: {\"fillOpacity\": 0}).add_to(mapObj)\n",
    "folium.GeoJson(brack_poly, name=\"Brackenburn\", color=\"red\", style_function=lambda x: {\"fillOpacity\": 0}).add_to(mapObj)\n",
    "# create ESRI satellite base map\n",
    "esri = 'https://server.arcgisonline.com/ArcGIS/rest/services/World_Imagery/MapServer/tile/{z}/{y}/{x}'\n",
    "folium.TileLayer(tiles = esri, attr = 'Esri', name = 'Esri Satellite', overlay = False, control = True).add_to(mapObj)\n",
    "folium.LayerControl().add_to(mapObj)\n",
    "mapObj\n"
   ]
  },
  {
   "cell_type": "markdown",
   "id": "be4da500-e4a3-462b-999d-33adc754d0d1",
   "metadata": {},
   "source": [
    "## Search for the subset of LVIS granules that are over Brackenburn Reserve\n",
    "\n",
    "We'll use the Brackenburn Reserve polygon to subset the LVIS flight lines to those within the Reserve"
   ]
  },
  {
   "cell_type": "code",
   "execution_count": null,
   "id": "f8a04fae-d1b0-4181-a7de-83490565a7e2",
   "metadata": {},
   "outputs": [],
   "source": [
    "#brack_poly = gpd.read_file(\"data/brackenburn.json\")\n",
    "# bounding lon, lat as a list of tuples\n",
    "brack_poly.geometry = brack_poly.geometry.apply(orient, args=(1,))\n",
    "# simplifying the polygon to bypass the coordinates \n",
    "# limit of the CMR with a tolerance of .005 degrees\n",
    "xy = brack_poly.geometry.simplify(0.005).get_coordinates()\n",
    "\n",
    "brack_granules = earthaccess.search_data(\n",
    "    count=-1, # needed to retrieve all granules\n",
    "    doi=\"10.5067/VP7J20HJQISD\", # LVIS L2A doi\n",
    "    temporal=(\"2023-10-01\", \"2023-11-30\"), # Bioscape campaign dates\n",
    "    polygon=list(zip(xy.x, xy.y))\n",
    ")"
   ]
  },
  {
   "cell_type": "code",
   "execution_count": null,
   "id": "74035b4c-4a28-4d35-bf23-a84998273631",
   "metadata": {},
   "outputs": [],
   "source": [
    "for g in brack_granules:\n",
    "    print(g.data_links(access=\"external\"))"
   ]
  },
  {
   "cell_type": "markdown",
   "id": "e80f4a70-75b8-4c3f-b54c-0d97f9e47650",
   "metadata": {},
   "source": [
    "### There are 9 granules within the area. Let's plot these over the basemap."
   ]
  },
  {
   "cell_type": "code",
   "execution_count": null,
   "id": "242caef6-13d2-422a-b11a-872c377fbd18",
   "metadata": {},
   "outputs": [],
   "source": [
    "brack_gdf = convert_list_gdf(brack_granules)\n",
    "\n",
    "mapObj = folium.Map(location=[-33.978573, 23.474745], zoom_start=10, control_scale=True)\n",
    "#-33.978573, 23.474745\n",
    "#folium.GeoJson(gdf).add_to(mapObj)\n",
    "folium.GeoJson(brack_gdf, name=\"LVIS L2 Lines\", style_function=lambda x: {\"fillOpacity\": 0}).add_to(mapObj)\n",
    "\n",
    "folium.GeoJson(brack_poly, name=\"Brackenburn\", color=\"red\", style_function=lambda x: {\"fillOpacity\": 0}).add_to(mapObj)\n",
    "\n",
    "# create ESRI satellite base map\n",
    "esri = 'https://server.arcgisonline.com/ArcGIS/rest/services/World_Imagery/MapServer/tile/{z}/{y}/{x}'\n",
    "folium.TileLayer(tiles = esri, attr = 'Esri', name = 'Esri Satellite', overlay = False, control = True).add_to(mapObj)\n",
    "folium.LayerControl().add_to(mapObj)\n",
    "mapObj"
   ]
  },
  {
   "cell_type": "markdown",
   "id": "8721096a-7e67-416e-9a25-bae5135e87b7",
   "metadata": {},
   "source": [
    "## Download LVIS L2A files\n",
    "\n",
    "**Earthaccess** download uses a parallel downloading feature so all the files are downloaded efficiently. It also avoids duplicated downloads if a file has already been downloaded previously to the local path."
   ]
  },
  {
   "cell_type": "code",
   "execution_count": null,
   "id": "4d3c9e07-c57f-47af-a895-93629a9471e4",
   "metadata": {},
   "outputs": [],
   "source": [
    "downloaded_files = earthaccess.download(brack_granules, local_path=\"data\")"
   ]
  },
  {
   "cell_type": "code",
   "execution_count": null,
   "id": "1e2b57b4-2eba-44b9-a6b0-06324ddf7772",
   "metadata": {},
   "outputs": [],
   "source": [
    "! dir data\\*.TXT"
   ]
  },
  {
   "cell_type": "markdown",
   "id": "8936086b-c843-40e7-ac07-6f59b92dc2c2",
   "metadata": {},
   "source": [
    "## Read LVIS L2A Files\n",
    "#### LVIS L2A files are in **`ASCII text format (.TXT)`** file format and have a number of lines as header. \n",
    "\n",
    "- NSIDC DAAC **User Guide** [LVIS Facility L2 Geolocated Surface Elevation and Canopy Height Product, Version 1](https://nsidc.org/sites/default/files/lvisf2-v001-userguide_2_0.pdf)\n",
    "\n",
    "\n",
    "- Let's define a python function to read the number of header rows.\n",
    "- Header rows begin with **`#`**"
   ]
  },
  {
   "cell_type": "code",
   "execution_count": null,
   "id": "5880a4ec-633a-41fb-9bf5-927f10ac8842",
   "metadata": {},
   "outputs": [],
   "source": [
    "def get_line_number(filename):\n",
    "    \"\"\"find number of header rows in LVIS L2A\"\"\"\n",
    "    count = 0\n",
    "    with open(filename, encoding=\"utf-8\") as f:\n",
    "        for line in f:\n",
    "            if line.startswith(\"#\"):\n",
    "                count = count + 1\n",
    "            else:\n",
    "                return count"
   ]
  },
  {
   "cell_type": "markdown",
   "id": "c491768c-b921-4844-9464-7b781dedad3b",
   "metadata": {},
   "source": [
    "## Read the 9 LVIS L2A files we downloaded into a `pandas` dataframe"
   ]
  },
  {
   "cell_type": "code",
   "execution_count": null,
   "id": "a084eb9b-4e74-48f5-942b-fb0bc596c718",
   "metadata": {},
   "outputs": [],
   "source": [
    "lvis_l2a = []\n",
    "for f in glob('data/LVISF2*'):\n",
    "    h_no = get_line_number(f)\n",
    "    lvis_l2a.append(pd.read_csv(f, skiprows=h_no, header=None, sep=r'\\s+'))\n",
    "lvis_l2a_df = pd.concat(lvis_l2a)\n",
    "lvis_l2a_df.columns = linecache.getline(f, h_no).split()[1:]"
   ]
  },
  {
   "cell_type": "code",
   "execution_count": null,
   "id": "4072bce1-d2ac-4f46-954e-ddea4d6a51fd",
   "metadata": {},
   "outputs": [],
   "source": [
    "print(\"number of header rows = \" + str(h_no))"
   ]
  },
  {
   "cell_type": "code",
   "execution_count": null,
   "id": "57352540-664d-4436-80ba-73ac088fc3e0",
   "metadata": {},
   "outputs": [],
   "source": [
    "len(lvis_l2a_df)"
   ]
  },
  {
   "cell_type": "code",
   "execution_count": null,
   "id": "690a3ad4-9716-433b-a86e-6b4398211949",
   "metadata": {},
   "outputs": [],
   "source": [
    "list(lvis_l2a_df.columns)"
   ]
  },
  {
   "cell_type": "code",
   "execution_count": null,
   "id": "e4ced8c1-ba6b-466c-8b80-b2f6d7d8716e",
   "metadata": {},
   "outputs": [],
   "source": [
    "lvis_l2a_df.head(5)"
   ]
  },
  {
   "cell_type": "code",
   "execution_count": null,
   "id": "c7161d1a-8601-4ae2-b4a9-c5cbabfc5178",
   "metadata": {},
   "outputs": [],
   "source": [
    "print(lvis_l2a_df.RH100)"
   ]
  },
  {
   "cell_type": "markdown",
   "id": "d64ded3a-8180-4014-b94c-3e84718d6d69",
   "metadata": {},
   "source": [
    "## Subset the Concatenated 9 Flight Lines of LVIS L2 data to the Brackenburn Private Nature Reserve Boundary  \n",
    "- 1. **`Convert`** pandas dataframe into geopandas\n",
    "- 2. **`Subset`** the locations to the Brackenburg Reserve boundary"
   ]
  },
  {
   "cell_type": "code",
   "execution_count": null,
   "id": "2c166c34-2040-424f-966d-249aff26ac1c",
   "metadata": {},
   "outputs": [],
   "source": [
    "lvis_l2a_gdf = gpd.GeoDataFrame(\n",
    "    lvis_l2a_df, geometry=gpd.points_from_xy(lvis_l2a_df.GLON, lvis_l2a_df.GLAT), \n",
    "    crs=\"EPSG:4326\")\n",
    "\n",
    "lvis_l2a_subset_gdf = lvis_l2a_gdf[lvis_l2a_gdf['geometry'].within(brack_poly.geometry[0])]  "
   ]
  },
  {
   "cell_type": "code",
   "execution_count": null,
   "id": "2de9bbdd-debc-4c68-a5ff-c76a2d0dde77",
   "metadata": {},
   "outputs": [],
   "source": [
    "lvis_l2a_subset_gdf"
   ]
  },
  {
   "cell_type": "markdown",
   "id": "aa067f36-0ebc-4cf1-bc9e-ae52bad36901",
   "metadata": {},
   "source": [
    "## Plot the Canopy Height (RH100) Variable Points over the Brackenburn Private Nature Reserve Boundary\n",
    "\n",
    "- The dataset uses WGS-84 Ellipsoid as geographic coordinates.\n",
    "\n",
    "- The data structure of LVIS Bioscape campaign is described [here](https://lvis.gsfc.nasa.gov/Data/Data_Structure/DataStructure_LDS205.html). The column `RH100` provides tree top heights.\n"
   ]
  },
  {
   "cell_type": "code",
   "execution_count": null,
   "id": "4d739b3c-d998-4fbc-8758-fd66def1e733",
   "metadata": {},
   "outputs": [],
   "source": [
    "ax = lvis_l2a_subset_gdf.to_crs(epsg=3857).plot(figsize=(16, 8), \n",
    "                                                column=\"RH100\", legend=True,\n",
    "                                                alpha=0.5, cmap='YlGn')\n",
    "ax.set_xlim(xmin-1000, xmax+1000)\n",
    "ax.set_ylim(ymin-300, ymax+300)\n",
    "cx.add_basemap(ax)"
   ]
  },
  {
   "cell_type": "code",
   "execution_count": null,
   "id": "1129252d-4c57-4f54-9e22-a017df7c76ea",
   "metadata": {},
   "outputs": [],
   "source": [
    "mapObj = folium.Map(location=[-33.978573, 23.474745], zoom_start=15, control_scale=True)\n",
    "\n",
    "folium.GeoJson(brack_gdf, name=\"LVIS L2 Lines\", style_function=lambda x: {\"fillOpacity\": 0}).add_to(mapObj)\n",
    "\n",
    "folium.GeoJson(brack_poly, name=\"Brackenburn\", color=\"red\", style_function=lambda x: {\"fillOpacity\": 0}).add_to(mapObj)\n",
    "folium.GeoJson(lvis_l2a_subset_gdf,\n",
    "               marker=folium.Circle(radius=0.5, fill_color=\"red\", fill_opacity=0.4, color=\"red\", weight=1),\n",
    "               name=\"LVIS Tree Top Height\").add_to(mapObj)\n",
    "\n",
    "# create ESRI satellite base map\n",
    "esri = 'https://server.arcgisonline.com/ArcGIS/rest/services/World_Imagery/MapServer/tile/{z}/{y}/{x}'\n",
    "folium.TileLayer(tiles = esri, attr = 'Esri', name = 'Esri Satellite', overlay = False, control = True).add_to(mapObj)\n",
    "\n",
    "folium.LayerControl().add_to(mapObj)\n",
    "mapObj"
   ]
  },
  {
   "cell_type": "code",
   "execution_count": null,
   "id": "56e5ce4d-64b8-4a81-a09f-30b68f7c8935",
   "metadata": {},
   "outputs": [],
   "source": []
  },
  {
   "cell_type": "code",
   "execution_count": null,
   "id": "0c30d82a-1e84-4163-a9af-ad6f4dc1c9ee",
   "metadata": {},
   "outputs": [],
   "source": [
    "mapObj = folium.Map(location=[-33.978573, 23.474745], zoom_start=15, control_scale=True)\n",
    "\n",
    "\n",
    "folium.GeoJson(brack_poly, name=\"Brackenburn\", color=\"red\", style_function=lambda x: {\"fillOpacity\": 0}).add_to(mapObj)\n",
    "\n",
    "# create ESRI satellite base map\n",
    "esri = 'https://server.arcgisonline.com/ArcGIS/rest/services/World_Imagery/MapServer/tile/{z}/{y}/{x}'\n",
    "folium.TileLayer(tiles = esri, attr = 'Esri', name = 'Esri Satellite', overlay = False, control = True).add_to(mapObj)\n",
    "\n",
    "mapObj\n",
    "lvis_l2a_subset_gdf.explore(\"RH100\", cmap=\"YlGn\")"
   ]
  },
  {
   "cell_type": "markdown",
   "id": "1c269e84-9a80-4324-8a6f-f42d8da59c48",
   "metadata": {},
   "source": [
    "## CONGRATS IN READING LVIS DATA FROM NASA EARTHDATA!"
   ]
  },
  {
   "cell_type": "code",
   "execution_count": null,
   "id": "27b56ccc-6bc0-41f9-a81d-81fd6f857262",
   "metadata": {},
   "outputs": [],
   "source": []
  }
 ],
 "metadata": {
  "kernelspec": {
   "display_name": "Python 3 (ipykernel)",
   "language": "python",
   "name": "python3"
  },
  "language_info": {
   "codemirror_mode": {
    "name": "ipython",
    "version": 3
   },
   "file_extension": ".py",
   "mimetype": "text/x-python",
   "name": "python",
   "nbconvert_exporter": "python",
   "pygments_lexer": "ipython3",
   "version": "3.12.4"
  }
 },
 "nbformat": 4,
 "nbformat_minor": 5
}
